{
  "nbformat": 4,
  "nbformat_minor": 0,
  "metadata": {
    "colab": {
      "provenance": []
    },
    "kernelspec": {
      "name": "python3",
      "display_name": "Python 3"
    },
    "language_info": {
      "name": "python"
    }
  },
  "cells": [
    {
      "cell_type": "markdown",
      "source": [],
      "metadata": {
        "id": "BBZOlgYidnsV"
      }
    },
    {
      "cell_type": "code",
      "execution_count": null,
      "metadata": {
        "id": "wSRUjcmrblcK"
      },
      "outputs": [],
      "source": [
        "#Importa as bibliotecas edar o alias\n",
        "import pandas as pd #importa o pandas com o alias as\n",
        "import matplotlib.pyplot as plt #importa o maltplot com o alias plt\n",
        "plt.style.use('seaborn') #uso o estilo seaborn no malplot\n",
        "  \n"
      ]
    },
    {
      "cell_type": "code",
      "source": [
        "#Criando nosso Dataframe\n",
        "df = pd.read_excel(\"/content/drive/MyDrive/Datasets/AdventureWorks.xlsx\")\n",
        "#Este comando ira formatar a visualiçõa dos resultados\n",
        "pd.options.display.float_format = '{:20,.2f}'.format"
      ],
      "metadata": {
        "id": "WQcjaL6lhY6J"
      },
      "execution_count": null,
      "outputs": []
    },
    {
      "cell_type": "code",
      "source": [
        "#Upload do arquivo\n",
        "#from google.colab import files\n",
        "#arq = files.upload('/content/drive/MyDrive/Datasets/AdventureWorks.xlsx')"
      ],
      "metadata": {
        "id": "SoTn8hXyhBcG"
      },
      "execution_count": null,
      "outputs": []
    },
    {
      "cell_type": "code",
      "source": [
        "#Visualizando as 5 primeiras linhas. Sem parametro exibe as 5 primiras linhas\n",
        "df.head()"
      ],
      "metadata": {
        "id": "aiAVe1Lih8xD"
      },
      "execution_count": null,
      "outputs": []
    },
    {
      "cell_type": "code",
      "source": [
        "#Visualiza o numero de linha e colunas da Tabela\n",
        "df.shape"
      ],
      "metadata": {
        "id": "PjzXJ_RSiZlR"
      },
      "execution_count": null,
      "outputs": []
    },
    {
      "cell_type": "code",
      "source": [
        "#Para verificar o Tipo de Dados digite\n",
        "df.dtypes"
      ],
      "metadata": {
        "id": "XhodTZr0iszb"
      },
      "execution_count": null,
      "outputs": []
    },
    {
      "cell_type": "code",
      "source": [
        "#Para saber a receita total digito\n",
        "total = df['Valor Venda'].sum() #Alias['Nome da coluna].função sum()\n",
        "print('Total: R$ {:.2f}'.format(total))"
      ],
      "metadata": {
        "id": "pkEmmdHwjQ6E"
      },
      "execution_count": null,
      "outputs": []
    },
    {
      "cell_type": "code",
      "source": [
        "#Qual o custo Total?\n",
        "df['custo'] = df['Custo Unitário'].mul(df['Quantidade']) #Cria a coluna custo na tabela\n",
        "custoTotal = df['custo'].sum()\n",
        "print('Custo total: R$ {:.2f}'.format(custoTotal))"
      ],
      "metadata": {
        "id": "FuWTdCdKiliH"
      },
      "execution_count": null,
      "outputs": []
    },
    {
      "cell_type": "code",
      "source": [
        "df.head()"
      ],
      "metadata": {
        "id": "BFQ9bXqqwNJg"
      },
      "execution_count": null,
      "outputs": []
    },
    {
      "cell_type": "code",
      "source": [
        "#Agora que temos a receita e o custo podemos achar o lucro\n",
        "df['Lucro'] = df['Valor Venda'] - df['custo']\n",
        "total_lucro = round(df['Lucro'].sum(),2)\n",
        "print(f'O Lucro é de: {total_lucro}')"
      ],
      "metadata": {
        "id": "l9WbU6NUyxPj"
      },
      "execution_count": null,
      "outputs": []
    },
    {
      "cell_type": "code",
      "source": [
        "#Vamos criar uma coluna com o total de dias para enviar o Produto\n",
        "df['Tempo_envio'] = df['Data Envio'] - df['Data Venda'] # Crio a coluna tempo de envio que é igual a Data de Envio - Data Venda"
      ],
      "metadata": {
        "id": "G9JDhh2212Fv"
      },
      "execution_count": null,
      "outputs": []
    },
    {
      "cell_type": "markdown",
      "source": [
        "Criando media do tempo de envio, antes devemos tranformar a coluna Tempo_envio em numerica."
      ],
      "metadata": {
        "id": "DIxWT7Gq5y_6"
      }
    },
    {
      "cell_type": "code",
      "source": [
        "#Extraindo apenas os dias\n",
        "df['Tempo_envio'] = (df['Data Envio'] - df['Data Venda']).dt.days\n",
        "#Media do tempo de envio filtrando por Marca\n",
        "df.groupby('Marca')['Tempo_envio'].mean()\n"
      ],
      "metadata": {
        "id": "HiRnJixR3muW"
      },
      "execution_count": null,
      "outputs": []
    },
    {
      "cell_type": "code",
      "source": [
        "#VErificando se temos dados faltantes na Tabelas\n",
        "df.isnull().sum()"
      ],
      "metadata": {
        "id": "P4QiawgG9aZ7"
      },
      "execution_count": null,
      "outputs": []
    },
    {
      "cell_type": "code",
      "source": [],
      "metadata": {
        "id": "GVpKeoJCwvJL"
      },
      "execution_count": null,
      "outputs": []
    },
    {
      "cell_type": "markdown",
      "source": [
        "**Lucro por Ano e Por Marca**"
      ],
      "metadata": {
        "id": "JeO5RLfgzSv2"
      }
    },
    {
      "cell_type": "code",
      "source": [
        "#Agrupo por ano e Marca\n",
        "df.groupby([df['Data Venda'].dt.year, 'Marca'])['Lucro'].sum()"
      ],
      "metadata": {
        "id": "J-xkhiXKz6yx"
      },
      "execution_count": null,
      "outputs": []
    },
    {
      "cell_type": "code",
      "source": [
        "#Resetando o Index (Cria uma nova tabela)\n",
        "lucro_ano = df.groupby([df['Data Venda'].dt.year, 'Marca'])['Lucro'].sum().reset_index()\n",
        "lucro_ano"
      ],
      "metadata": {
        "id": "bYu3eRnw1zYK"
      },
      "execution_count": null,
      "outputs": []
    },
    {
      "cell_type": "code",
      "source": [
        "#Qual o total de produtos?\n",
        "df.groupby('Produto')['Quantidade'].sum().sort_values(ascending=False)"
      ],
      "metadata": {
        "id": "Zd1zb5yu2lCQ"
      },
      "execution_count": null,
      "outputs": []
    },
    {
      "cell_type": "code",
      "source": [
        "#GRáfico Total de Produtos Vendidos\n",
        "df.groupby('Produto')['Quantidade'].sum().sort_values(ascending=True).plot.barh(title= 'Titulo do Grafico Aqui!')\n",
        "plt.xlabel('Total')\n",
        "plt.ylabel('Produto')"
      ],
      "metadata": {
        "id": "yZvWa4C42_Rs"
      },
      "execution_count": null,
      "outputs": []
    },
    {
      "cell_type": "code",
      "source": [
        "df.groupby(df['Data Venda'].dt.year)['Lucro'].sum().plot.bar('O nome aqui é Lucro x Ano')\n",
        "plt.xlabel('Ano')\n",
        "plt.ylabel('Receita')"
      ],
      "metadata": {
        "id": "XtM9dSlG4N6P"
      },
      "execution_count": null,
      "outputs": []
    },
    {
      "cell_type": "code",
      "source": [
        "df.groupby(df['Data Venda'].dt.year)['Lucro'].sum()"
      ],
      "metadata": {
        "colab": {
          "base_uri": "https://localhost:8080/"
        },
        "id": "p-H5GhmK5zKP",
        "outputId": "e1ac3374-a2b0-4742-f57b-99dee9c2488d"
      },
      "execution_count": null,
      "outputs": [
        {
          "output_type": "execute_result",
          "data": {
            "text/plain": [
              "Data Venda\n",
              "2008           1,920,077.71\n",
              "2009           1,577,745.38\n",
              "Name: Lucro, dtype: float64"
            ]
          },
          "metadata": {},
          "execution_count": 47
        }
      ]
    },
    {
      "cell_type": "code",
      "source": [
        "df_2009 = df[df['Data Venda'].dt.year == 2009]"
      ],
      "metadata": {
        "id": "ILsROmEo6PLv"
      },
      "execution_count": null,
      "outputs": []
    },
    {
      "cell_type": "code",
      "source": [
        "df_2009.head()"
      ],
      "metadata": {
        "id": "Cmakg6ms7KA3"
      },
      "execution_count": null,
      "outputs": []
    },
    {
      "cell_type": "code",
      "source": [
        "#Grafico de  linha por Lucro e Mes\n",
        "df_2009.groupby(df_2009['Data Venda'].dt.month)['Lucro'].sum().plot(title='Coloca aqui o Titulo do Grafico')\n",
        "plt.xlabel('Mês')\n",
        "plt.ylabel('Lucro')"
      ],
      "metadata": {
        "id": "nZDnpUsq7kZN"
      },
      "execution_count": null,
      "outputs": []
    },
    {
      "cell_type": "code",
      "source": [
        "#Lucro por Marcas\n",
        "df_2009.groupby('Marca')['Lucro'].sum().plot.bar(title='Aqui é o titulo')\n",
        "plt.xlabel('Marca')\n",
        "plt.ylabel('Lucro')\n",
        "plt.xticks(rotation='horizontal');"
      ],
      "metadata": {
        "id": "R_RHNU1j8cgl"
      },
      "execution_count": null,
      "outputs": []
    },
    {
      "cell_type": "code",
      "source": [
        "#Lucro por Classes\n",
        "df_2009.groupby('Classe')['Lucro'].sum().plot.bar(title='Aqui é o titulo')\n",
        "plt.xlabel('Classe')\n",
        "plt.ylabel('Lucro')\n",
        "plt.xticks(rotation='horizontal');"
      ],
      "metadata": {
        "id": "b5sFv6hR-FwF"
      },
      "execution_count": null,
      "outputs": []
    },
    {
      "cell_type": "code",
      "source": [
        "#Analise estatistica do tempo de envio\n",
        "df['Tempo_envio'].describe()"
      ],
      "metadata": {
        "id": "-ZaPs6oj95tY"
      },
      "execution_count": null,
      "outputs": []
    },
    {
      "cell_type": "code",
      "source": [
        "#Grafico do Boxplot (Ajuda a encontrar outlayer)\n",
        "plt.boxplot(df['Tempo_envio']);"
      ],
      "metadata": {
        "id": "cRqz6CxL-EaK"
      },
      "execution_count": null,
      "outputs": []
    },
    {
      "cell_type": "code",
      "source": [
        "#Histograma\n",
        "plt.hist(df['Tempo_envio']);"
      ],
      "metadata": {
        "id": "b6QUDExX9rBr"
      },
      "execution_count": null,
      "outputs": []
    },
    {
      "cell_type": "code",
      "source": [
        "#Tempo minimo\n",
        "df['Tempo_envio'].min()"
      ],
      "metadata": {
        "id": "gTO82xd8ASks"
      },
      "execution_count": null,
      "outputs": []
    },
    {
      "cell_type": "code",
      "source": [
        "#Tempo Máximo de Envio\n",
        "df['Tempo_envio'].max()"
      ],
      "metadata": {
        "id": "RxinsFRMAcqQ"
      },
      "execution_count": null,
      "outputs": []
    },
    {
      "cell_type": "code",
      "source": [
        "#Identificando o Outlier\n",
        "df[df['Tempo_envio'] == 20]"
      ],
      "metadata": {
        "id": "JAOa_DQuA13v"
      },
      "execution_count": null,
      "outputs": []
    },
    {
      "cell_type": "code",
      "source": [
        "#Salvando com CSV (Salvando a Análise)\n",
        "df.to_csv('Novo.csv', index=False)"
      ],
      "metadata": {
        "id": "vZg6g0JABb1-"
      },
      "execution_count": null,
      "outputs": []
    }
  ]
}